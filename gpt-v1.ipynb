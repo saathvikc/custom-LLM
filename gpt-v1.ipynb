{
 "cells": [
  {
   "cell_type": "code",
   "execution_count": 1,
   "id": "a2131a78",
   "metadata": {},
   "outputs": [
    {
     "name": "stdout",
     "output_type": "stream",
     "text": [
      "Using device: cuda\n"
     ]
    }
   ],
   "source": [
    "import torch\n",
    "import torch.nn as nn\n",
    "from torch.nn import functional as F\n",
    "import mmap\n",
    "import random\n",
    "import pickle\n",
    "device = torch.device(\"cuda\" if torch.cuda.is_available() else \"cpu\")\n",
    "print(f\"Using device: {device}\")"
   ]
  },
  {
   "cell_type": "code",
   "execution_count": null,
   "id": "d2636f69",
   "metadata": {
    "deletable": false,
    "editable": false,
    "tags": [
     "parameters"
    ]
   },
   "outputs": [],
   "source": [
    "# Hyperparameters\n",
    "batch_size = 64\n",
    "block_size = 128\n",
    "max_iters = 200\n",
    "lr = 3e-4\n",
    "eval_iters = 100\n",
    "num_embeddings = 384\n",
    "num_heads = 4\n",
    "num_layers = 4\n",
    "dropout = 0.2"
   ]
  },
  {
   "cell_type": "code",
   "execution_count": 3,
   "id": "47a9b06f",
   "metadata": {},
   "outputs": [],
   "source": [
    "chars = \"\"\n",
    "with open('E:/Saathvik/openwebtext/vocab.txt', 'r', encoding='utf-8') as f:\n",
    "    text = f.read()\n",
    "    chars = sorted(list(set(text)))\n",
    "vocab_size = len(chars)"
   ]
  },
  {
   "cell_type": "code",
   "execution_count": 4,
   "id": "a03ac4d3",
   "metadata": {},
   "outputs": [],
   "source": [
    "string_to_int = {ch:i for i, ch in enumerate(chars)}\n",
    "int_to_string = {i:ch for i, ch in enumerate(chars)}\n",
    "encode = lambda s: [string_to_int[c] for c in s]\n",
    "decode = lambda l: ''.join([int_to_string[i] for i in l])"
   ]
  },
  {
   "cell_type": "code",
   "execution_count": 5,
   "id": "85ce826d",
   "metadata": {},
   "outputs": [],
   "source": [
    "def get_random_chunk(split):\n",
    "    filename = \"E:/Saathvik/openwebtext/train_split.txt\" if split == 'train' else \"E:/Saathvik/openwebtext/test_split.txt\"\n",
    "    with open(filename, 'rb') as f:\n",
    "        with mmap.mmap(f.fileno(), 0, access=mmap.ACCESS_READ) as mm:\n",
    "            file_size = len(mm)\n",
    "            start = random.randint(0, file_size - (block_size * batch_size)) # random starting position\n",
    "            mm.seek(start)\n",
    "            block = mm.read(block_size * batch_size - 1) # read a block of data\n",
    "            decoded = block.decode('utf-8', errors='ignore').replace('\\r', '') # decode and clean the data\n",
    "            data = torch.tensor(encode(decoded), dtype=torch.long, device=device) # encode and convert to tensor\n",
    "    return data         "
   ]
  },
  {
   "cell_type": "code",
   "execution_count": 6,
   "id": "33d69f44",
   "metadata": {},
   "outputs": [],
   "source": [
    "def get_batch(split):\n",
    "    data = get_random_chunk(split)\n",
    "    xi = torch.randint(len(data) - block_size, (batch_size,))\n",
    "    x = torch.stack([data[i:i + block_size] for i in xi])\n",
    "    y = torch.stack([data[i + 1:i + block_size + 1] for i in xi])\n",
    "    x, y = x.to(device), y.to(device)\n",
    "    return x, y"
   ]
  },
  {
   "cell_type": "code",
   "execution_count": 7,
   "id": "a0cbb8ca",
   "metadata": {},
   "outputs": [],
   "source": [
    "@torch.no_grad()\n",
    "def estimate_loss():\n",
    "    out = {}\n",
    "    model.eval() # type: ignore\n",
    "    for split in ['train', 'test']:\n",
    "        losses = torch.zeros(eval_iters)\n",
    "        for k in range(eval_iters):\n",
    "            X, Y = get_batch(split)\n",
    "            logits, loss = model(X, Y) # type: ignore\n",
    "            losses[k] = loss.item()\n",
    "        out[split] = losses.mean()\n",
    "    model.train() # type: ignore\n",
    "    return out"
   ]
  },
  {
   "cell_type": "code",
   "execution_count": 8,
   "id": "6d1acd29",
   "metadata": {},
   "outputs": [],
   "source": [
    "class Head(nn.Module):\n",
    "    def __init__(self, head_size):\n",
    "        super().__init__()\n",
    "        self.key = nn.Linear(num_embeddings, head_size, bias=False) # linear transformation for keys\n",
    "        self.query = nn.Linear(num_embeddings, head_size, bias=False) # linear transformation for queries\n",
    "        self.value = nn.Linear(num_embeddings, head_size, bias=False) # linear transformation for values\n",
    "        # lower triangular matrix for masking future tokens\n",
    "        self.register_buffer('tril', torch.tril(torch.ones(block_size, block_size))) \n",
    "        self.dropout = nn.Dropout(dropout) \n",
    "    \n",
    "    def forward(self, x):\n",
    "        # input x: (B, T, C) where B=batch size, T=block size, C=channels\n",
    "        # output: (B, T, C) where C=head_size\n",
    "        B, T, C = x.shape \n",
    "        k = self.key(x) # (B, T, head_size)\n",
    "        q = self.query(x) #@ (B, T, head_size)\n",
    "        \n",
    "        # compute weighted attention scores\n",
    "        weights = q @ k.transpose(-2, -1) * k.shape[-1] ** -0.5 # scaled dot-product attention\n",
    "        weights = weights.masked_fill(self.tril[:T, :T] == 0, float('-inf')) # mask future tokens\n",
    "        weights = F.softmax(weights, dim=-1) # softmax to get attention weights\n",
    "        weights = self.dropout(weights)\n",
    "        v = self.value(x) # (B, T, head_size)\n",
    "        output = weights @ v # matrix multiplication\n",
    "        return output"
   ]
  },
  {
   "cell_type": "code",
   "execution_count": 9,
   "id": "0cb6f4e6",
   "metadata": {},
   "outputs": [],
   "source": [
    "# MultiHead Attention Module \n",
    "# (scaled dot-product attention (k, q, v) -> concatenate results -> linear projection)\n",
    "class MultiHeadAttention(nn.Module):\n",
    "    def __init__(self, num_heads, head_size):\n",
    "        super().__init__()\n",
    "        self.heads = nn.ModuleList([Head(head_size) for _ in range(num_heads)])\n",
    "        self.projection = nn.Linear(head_size * num_heads, num_embeddings)\n",
    "        self.dropout = nn.Dropout(dropout)\n",
    "        \n",
    "    def forward(self, x):\n",
    "        output = torch.cat([h(x) for h in self.heads], dim=-1)  # concatenate results from all heads\n",
    "        output = self.dropout(self.projection(output))  # linear projection and dropout\n",
    "        return output"
   ]
  },
  {
   "cell_type": "code",
   "execution_count": 10,
   "id": "18717c75",
   "metadata": {},
   "outputs": [],
   "source": [
    "# transformer block feed forward class (linear -> ReLU -> linear)\n",
    "class FeedForward(nn.Module):\n",
    "    def __init__(self, num_embeddings):\n",
    "        super().__init__()\n",
    "        self.net = nn.Sequential(\n",
    "            nn.Linear(num_embeddings, 4 * num_embeddings),\n",
    "            nn.ReLU(),\n",
    "            nn.Linear(4 * num_embeddings, num_embeddings),\n",
    "            nn.Dropout(dropout), # dropout for regularization (prevent overfitting)\n",
    "        )\n",
    "\n",
    "    def forward(self, x):\n",
    "        return self.net(x)"
   ]
  },
  {
   "cell_type": "code",
   "execution_count": 11,
   "id": "b880cae8",
   "metadata": {},
   "outputs": [],
   "source": [
    "# transformer block class (MultiHeadAttention -> FeedForward -> LayerNorm -> LayerNorm)\n",
    "class Block(nn.Module):\n",
    "    def __init__(self, num_embeddings, num_heads):\n",
    "        super().__init__()\n",
    "        head_size = num_embeddings // num_heads\n",
    "        self.sa = MultiHeadAttention(num_heads, head_size)\n",
    "        self.ffwd = FeedForward(num_embeddings)\n",
    "        self.ln1 = nn.LayerNorm(num_embeddings)\n",
    "        self.ln2 = nn.LayerNorm(num_embeddings)\n",
    "    \n",
    "    def forward(self, x):\n",
    "        y = self.sa(x)\n",
    "        x = self.ln1(x + y)  # residual connection\n",
    "        y = self.ffwd(x)\n",
    "        x = self.ln2(x + y)\n",
    "        return x      "
   ]
  },
  {
   "cell_type": "code",
   "execution_count": 12,
   "id": "7f136b7d",
   "metadata": {},
   "outputs": [],
   "source": [
    "# basic GPT language model\n",
    "class GPTLanguageModel(nn.Module):\n",
    "    def __init__(self, vocab_size):\n",
    "        super().__init__()\n",
    "        self.token_embedding_table = nn.Embedding(vocab_size, num_embeddings)\n",
    "        self.position_embedding_table = nn.Embedding(block_size, num_embeddings)\n",
    "        self.blocks = nn.Sequential(*[Block(num_embeddings, num_heads) for _ in range(num_layers)])\n",
    "        self.ln_f = nn.LayerNorm(num_embeddings) # final layer normalization\n",
    "        self.lm_head = nn.Linear(num_embeddings, vocab_size) # final linear layer to project to vocab size\n",
    "        self.apply(self.__init__weights) # initialize weights\n",
    "    \n",
    "    def __init__weights(self, module):\n",
    "        if isinstance(module, nn.Linear):\n",
    "            torch.nn.init.normal_(module.weight, mean=0.0, std=0.02)\n",
    "            if module.bias is not None:\n",
    "                torch.nn.init.zeros_(module.bias)\n",
    "        elif isinstance(module, nn.Embedding):\n",
    "            torch.nn.init.normal_(module.weight, mean=0.0, std=0.02)\n",
    "    \n",
    "    def forward(self, idx, targets=None):\n",
    "        # B=batch size, T=time, C=channels (can be vocab size)\n",
    "        B, T = idx.shape\n",
    "        token_embeddings = self.token_embedding_table(idx)  # (B, T, C)\n",
    "        position_embeddings = self.position_embedding_table(torch.arange(T, device=device))  # (T, C)\n",
    "        x = token_embeddings + position_embeddings  # (B, T, C)\n",
    "        x = self.blocks(x)  # feed through transformer blocks\n",
    "        x = self.ln_f(x) # final layer normalization\n",
    "        logits = self.lm_head(x)  # project to vocab size (B, T, vocab_size)\n",
    "        \n",
    "        if targets is None:\n",
    "            loss = None\n",
    "        else:\n",
    "            B, T, C = logits.shape \n",
    "            \n",
    "            # reshape logits and targets for cross-entropy loss\n",
    "            logits = logits.view(B*T, C) \n",
    "            targets = targets.view(B*T)\n",
    "            loss = F.cross_entropy(logits, targets) \n",
    "        return logits, loss\n",
    "\n",
    "    def generate(self, idx, max_new_tokens):\n",
    "        for _ in range(max_new_tokens):\n",
    "            logits, loss = self.forward(idx[:, -block_size:])  # get predictions\n",
    "            logits = logits[:, -1, :] # (B, C) last time step\n",
    "            probs = F.softmax(logits, dim=-1) # (B, C)\n",
    "            idx_next = torch.multinomial(probs, num_samples=1) # (B, 1)\n",
    "            idx = torch.cat((idx, idx_next), dim=1) # (B, T+1)\n",
    "        return idx"
   ]
  },
  {
   "cell_type": "code",
   "execution_count": 18,
   "id": "59ce0fd9",
   "metadata": {},
   "outputs": [
    {
     "name": "stdout",
     "output_type": "stream",
     "text": [
      "Model loaded from gpt-v1.pkl\n"
     ]
    }
   ],
   "source": [
    "model = GPTLanguageModel(vocab_size).to(device)\n",
    "\n",
    "with open('gpt_v1.pkl', 'rb') as f:\n",
    "    model= pickle.load(f)\n",
    "print(\"Model loaded from gpt-v1.pkl\")"
   ]
  },
  {
   "cell_type": "code",
   "execution_count": 19,
   "id": "f5c070ec",
   "metadata": {},
   "outputs": [
    {
     "name": "stdout",
     "output_type": "stream",
     "text": [
      "step: 0, train loss: 2.3077, test loss: 2.2611\n",
      "step: 100, train loss: 2.2828, test loss: 2.2806\n",
      "2.1401333808898926\n",
      "Model saved to gpt_v1.pkl\n"
     ]
    }
   ],
   "source": [
    "#PyTorch Optimizer\n",
    "optimizer = torch.optim.AdamW(model.parameters(), lr)\n",
    "\n",
    "for iter in range(max_iters):\n",
    "    if iter % eval_iters == 0:\n",
    "        losses = estimate_loss()\n",
    "        print(f'step: {iter}, train loss: {losses[\"train\"]:.4f}, test loss: {losses[\"test\"]:.4f}')\n",
    "    xb, yb = get_batch('train')\n",
    "    \n",
    "    logits, loss = model.forward(xb, yb)\n",
    "    optimizer.zero_grad(set_to_none=True)\n",
    "    loss.backward() # type: ignore\n",
    "    optimizer.step()\n",
    "print(loss.item()) # type: ignore\n",
    "\n",
    "# save the model\n",
    "with open('gpt_v1.pkl', 'wb') as f:\n",
    "    pickle.dump(model, f)\n",
    "print(\"Model saved to gpt_v1.pkl\")"
   ]
  },
  {
   "cell_type": "code",
   "execution_count": 26,
   "id": "4e403ddb",
   "metadata": {},
   "outputs": [
    {
     "name": "stdout",
     "output_type": "stream",
     "text": [
      "Iteration 1\n",
      "Model loaded from gpt-v1.pkl\n",
      "step: 0, train loss: 1.6278, test loss: 1.7506\n"
     ]
    },
    {
     "ename": "KeyboardInterrupt",
     "evalue": "",
     "output_type": "error",
     "traceback": [
      "\u001b[1;31m---------------------------------------------------------------------------\u001b[0m",
      "\u001b[1;31mKeyboardInterrupt\u001b[0m                         Traceback (most recent call last)",
      "Cell \u001b[1;32mIn[26], line 20\u001b[0m\n\u001b[0;32m     18\u001b[0m     logits, loss \u001b[38;5;241m=\u001b[39m model\u001b[38;5;241m.\u001b[39mforward(xb, yb)\n\u001b[0;32m     19\u001b[0m     optimizer\u001b[38;5;241m.\u001b[39mzero_grad(set_to_none\u001b[38;5;241m=\u001b[39m\u001b[38;5;28;01mTrue\u001b[39;00m)\n\u001b[1;32m---> 20\u001b[0m     loss\u001b[38;5;241m.\u001b[39mbackward() \u001b[38;5;66;03m# type: ignore\u001b[39;00m\n\u001b[0;32m     21\u001b[0m     optimizer\u001b[38;5;241m.\u001b[39mstep()\n\u001b[0;32m     22\u001b[0m \u001b[38;5;28mprint\u001b[39m(loss\u001b[38;5;241m.\u001b[39mitem()) \u001b[38;5;66;03m# type: ignore\u001b[39;00m\n",
      "File \u001b[1;32m~\\AppData\\Roaming\\Python\\Python311\\site-packages\\torch\\_tensor.py:492\u001b[0m, in \u001b[0;36mTensor.backward\u001b[1;34m(self, gradient, retain_graph, create_graph, inputs)\u001b[0m\n\u001b[0;32m    482\u001b[0m \u001b[38;5;28;01mif\u001b[39;00m has_torch_function_unary(\u001b[38;5;28mself\u001b[39m):\n\u001b[0;32m    483\u001b[0m     \u001b[38;5;28;01mreturn\u001b[39;00m handle_torch_function(\n\u001b[0;32m    484\u001b[0m         Tensor\u001b[38;5;241m.\u001b[39mbackward,\n\u001b[0;32m    485\u001b[0m         (\u001b[38;5;28mself\u001b[39m,),\n\u001b[1;32m   (...)\u001b[0m\n\u001b[0;32m    490\u001b[0m         inputs\u001b[38;5;241m=\u001b[39minputs,\n\u001b[0;32m    491\u001b[0m     )\n\u001b[1;32m--> 492\u001b[0m torch\u001b[38;5;241m.\u001b[39mautograd\u001b[38;5;241m.\u001b[39mbackward(\n\u001b[0;32m    493\u001b[0m     \u001b[38;5;28mself\u001b[39m, gradient, retain_graph, create_graph, inputs\u001b[38;5;241m=\u001b[39minputs\n\u001b[0;32m    494\u001b[0m )\n",
      "File \u001b[1;32m~\\AppData\\Roaming\\Python\\Python311\\site-packages\\torch\\autograd\\__init__.py:251\u001b[0m, in \u001b[0;36mbackward\u001b[1;34m(tensors, grad_tensors, retain_graph, create_graph, grad_variables, inputs)\u001b[0m\n\u001b[0;32m    246\u001b[0m     retain_graph \u001b[38;5;241m=\u001b[39m create_graph\n\u001b[0;32m    248\u001b[0m \u001b[38;5;66;03m# The reason we repeat the same comment below is that\u001b[39;00m\n\u001b[0;32m    249\u001b[0m \u001b[38;5;66;03m# some Python versions print out the first line of a multi-line function\u001b[39;00m\n\u001b[0;32m    250\u001b[0m \u001b[38;5;66;03m# calls in the traceback and some print out the last line\u001b[39;00m\n\u001b[1;32m--> 251\u001b[0m Variable\u001b[38;5;241m.\u001b[39m_execution_engine\u001b[38;5;241m.\u001b[39mrun_backward(  \u001b[38;5;66;03m# Calls into the C++ engine to run the backward pass\u001b[39;00m\n\u001b[0;32m    252\u001b[0m     tensors,\n\u001b[0;32m    253\u001b[0m     grad_tensors_,\n\u001b[0;32m    254\u001b[0m     retain_graph,\n\u001b[0;32m    255\u001b[0m     create_graph,\n\u001b[0;32m    256\u001b[0m     inputs,\n\u001b[0;32m    257\u001b[0m     allow_unreachable\u001b[38;5;241m=\u001b[39m\u001b[38;5;28;01mTrue\u001b[39;00m,\n\u001b[0;32m    258\u001b[0m     accumulate_grad\u001b[38;5;241m=\u001b[39m\u001b[38;5;28;01mTrue\u001b[39;00m,\n\u001b[0;32m    259\u001b[0m )\n",
      "\u001b[1;31mKeyboardInterrupt\u001b[0m: "
     ]
    }
   ],
   "source": [
    "model = GPTLanguageModel(vocab_size).to(device)\n",
    "\n",
    "for i in range(3):\n",
    "    print(f\"Iteration {i+1}\")\n",
    "    with open('gpt_v1.pkl', 'rb') as f:\n",
    "        model = pickle.load(f)\n",
    "    print(\"Model loaded from gpt-v1.pkl\")\n",
    "    \n",
    "    #PyTorch Optimizer\n",
    "    optimizer = torch.optim.AdamW(model.parameters(), lr)\n",
    "\n",
    "    for iter in range(max_iters):\n",
    "        if iter % eval_iters == 0:\n",
    "            losses = estimate_loss()\n",
    "            print(f'step: {iter}, train loss: {losses[\"train\"]:.4f}, test loss: {losses[\"test\"]:.4f}')\n",
    "        xb, yb = get_batch('train')\n",
    "        \n",
    "        logits, loss = model.forward(xb, yb)\n",
    "        optimizer.zero_grad(set_to_none=True)\n",
    "        loss.backward() # type: ignore\n",
    "        optimizer.step()\n",
    "    print(loss.item()) # type: ignore\n",
    "    \n",
    "        # save the model\n",
    "    with open('gpt_v1.pkl', 'wb') as f:\n",
    "        pickle.dump(model, f)\n",
    "    print(\"Model saved to gpt_v1.pkl\")"
   ]
  },
  {
   "cell_type": "code",
   "execution_count": 25,
   "id": "8620c92b",
   "metadata": {},
   "outputs": [
    {
     "name": "stdout",
     "output_type": "stream",
     "text": [
      "\u0000\u0000\u0000\u0000\u0000\u0000\u0000\u0000\u0000\u0000\u0000\u0000\u0000\u0000\u0000\u0000\u0000\u0000\u0000\u0000\u0000\u0000\u0000\u0000\u0000\u0000\u0000\u0000\u0000\u0000\u0000\u0000\u0000\u0000\u0000\u0000\u0000\u0000\u0000\u0000\u0000\u0000\u0000\u0000\u0000\u0000\u0000\u0000\u0000\u0000\u0000\u0000\u0000\u0000\u0000\u0000\u0000\u0000\u0000\u0000\u0000\u0000\u0000\u0000\u0000\u0000\u0000\u0000\u0000\u0000\u0000\u0000\u0000\u0000\u0000\u0000\u0000\u0000\u0000\u0000\u0000\u0000\u0000\u0000\u0000\u0000\u0000\u0000\u0000\u0000\u0000\u0000\u0000\u0000\u0000\u0000\u0000\u0000\u0000\u0000\u0000\u0000\u0000\u0000\u0000\u0000\u0000\u0000\u0000\u0000\u0000\u0000\u0000\u0000\u0000\u0000\u0000\u0000\u0000\u0000\u0000\u0000\u0000\u0000\u0000\u0000\u0000\u0000\u0000\u0000\u0000\u0000\u0000\u0000\u0000\u0000\u0000\u0000\u0000\u0000\u0000\u0000\u0000\u0000\u0000\u0000\u0000\u0000\u0000\u0000\u0000\u0000\u0000\u0000\u0000\u0000\u0000\u0000\u0000\u0000\u0000\u0000Hou repen que lon Belt on Br Hon 25 vor-Fientwore Clays ris hem placcesion.\n",
      "\n",
      "\n",
      "5 conding only on were bat a simplease, prewecin servscoused to battimes were said, the rightifieght. Commocnity ito anime a wild hast bey they are highanda Few 2001 head is astincersumgent Commediont and womey erthouthd compioling socumpon for a pronerientroce\n"
     ]
    }
   ],
   "source": [
    "context = torch.zeros((1, 1), dtype=torch.long, device=device)  # initial context\n",
    "generated_chars = decode(model.generate(context, max_new_tokens=500)[0].tolist())\n",
    "print(generated_chars)   "
   ]
  }
 ],
 "metadata": {
  "kernelspec": {
   "display_name": "Python 3",
   "language": "python",
   "name": "python3"
  },
  "language_info": {
   "codemirror_mode": {
    "name": "ipython",
    "version": 3
   },
   "file_extension": ".py",
   "mimetype": "text/x-python",
   "name": "python",
   "nbconvert_exporter": "python",
   "pygments_lexer": "ipython3",
   "version": "3.11.5"
  }
 },
 "nbformat": 4,
 "nbformat_minor": 5
}
