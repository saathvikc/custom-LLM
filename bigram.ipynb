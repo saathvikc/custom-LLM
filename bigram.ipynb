{
 "cells": [
  {
   "cell_type": "code",
   "execution_count": 39,
   "id": "5b1c065f",
   "metadata": {},
   "outputs": [
    {
     "name": "stdout",
     "output_type": "stream",
     "text": [
      "Using device: cuda\n"
     ]
    }
   ],
   "source": [
    "import torch\n",
    "import torch.nn as nn\n",
    "from torch.nn import functional as F\n",
    "device = torch.device(\"cuda\" if torch.cuda.is_available() else \"cpu\")\n",
    "print(f\"Using device: {device}\")"
   ]
  },
  {
   "cell_type": "code",
   "execution_count": 38,
   "id": "c5702a74",
   "metadata": {},
   "outputs": [],
   "source": [
    "block_size = 8\n",
    "batch_size = 4\n",
    "max_iters = 10000\n",
    "lr = 3e-4"
   ]
  },
  {
   "cell_type": "code",
   "execution_count": 36,
   "id": "16497e98-eee9-4422-ac78-019fc95386a2",
   "metadata": {},
   "outputs": [
    {
     "name": "stdout",
     "output_type": "stream",
     "text": [
      "['\\n', ' ', '!', '\"', '&', \"'\", '(', ')', '*', ',', '-', '.', '0', '1', '2', '3', '4', '5', '6', '7', '8', '9', ':', ';', '?', 'A', 'B', 'C', 'D', 'E', 'F', 'G', 'H', 'I', 'J', 'K', 'L', 'M', 'N', 'O', 'P', 'Q', 'R', 'S', 'T', 'U', 'V', 'W', 'X', 'Y', 'Z', '[', ']', '_', 'a', 'b', 'c', 'd', 'e', 'f', 'g', 'h', 'i', 'j', 'k', 'l', 'm', 'n', 'o', 'p', 'q', 'r', 's', 't', 'u', 'v', 'w', 'x', 'y', 'z']\n"
     ]
    }
   ],
   "source": [
    "with open('wizard_of_oz.txt', 'r', encoding='utf-8') as f:\n",
    "    text = f.read()\n",
    "chars = sorted(set(text))\n",
    "print(chars)\n",
    "vocab_size = len(chars)"
   ]
  },
  {
   "cell_type": "code",
   "execution_count": 29,
   "id": "42399e9f-ee5c-4cc1-9057-0f89c1111915",
   "metadata": {
    "scrolled": true
   },
   "outputs": [
    {
     "name": "stdout",
     "output_type": "stream",
     "text": [
      "tensor([28, 39, 42, 39, 44, 32, 49,  1, 25, 38, 28,  1, 44, 32, 29,  1, 47, 33,\n",
      "        50, 25, 42, 28,  1, 33, 38,  1, 39, 50,  0,  0, 26, 49,  0,  0, 36, 11,\n",
      "         1, 30, 42, 25, 38, 35,  1, 26, 25, 45, 37,  0,  0, 25, 45, 44, 32, 39,\n",
      "        42,  1, 39, 30,  1, 44, 32, 29,  1, 47, 33, 50, 25, 42, 28,  1, 39, 30,\n",
      "         1, 39, 50,  9,  1, 44, 32, 29,  1, 36, 25, 38, 28,  1, 39, 30,  1, 39,\n",
      "        50,  9,  1, 39, 50, 37, 25,  1, 39, 30])\n"
     ]
    }
   ],
   "source": [
    "string_to_int = {ch:i for i, ch in enumerate(chars)}\n",
    "int_to_string = {i:ch for i, ch in enumerate(chars)}\n",
    "encode = lambda s: [string_to_int[c] for c in s]\n",
    "decode = lambda l: ''.join([int_to_string[i] for i in l])\n",
    "\n",
    "data = torch.tensor(encode(text), dtype=torch.long)\n",
    "print(data[:100]) "
   ]
  },
  {
   "cell_type": "code",
   "execution_count": 47,
   "id": "c4ff6023-b8c8-45ba-8d2f-2305d485cb41",
   "metadata": {},
   "outputs": [
    {
     "name": "stdout",
     "output_type": "stream",
     "text": [
      "Input batch:\n",
      "tensor([[65, 64, 72,  1, 57, 68, 67,  5],\n",
      "        [74,  1, 72, 74, 71, 69, 71, 62],\n",
      "        [74, 62, 56, 64,  2,  1, 44, 68],\n",
      "        [67, 57,  1, 73, 68, 65, 57,  1]], device='cuda:0')\n",
      "Target batch:\n",
      "tensor([[64, 72,  1, 57, 68, 67,  5, 73],\n",
      "        [ 1, 72, 74, 71, 69, 71, 62, 72],\n",
      "        [62, 56, 64,  2,  1, 44, 68,  1],\n",
      "        [57,  1, 73, 68, 65, 57,  1, 74]], device='cuda:0')\n"
     ]
    }
   ],
   "source": [
    "n = int(0.8 * len(data))\n",
    "train_data = data[:n]\n",
    "test_data = data[n:]\n",
    "\n",
    "def get_batch(split):\n",
    "    data = train_data if split == 'train' else test_data\n",
    "    xi = torch.randint(len(data) - block_size, (batch_size,)) # random starting indices\n",
    "    # print(f\"Training Integers: {xi}\")\n",
    "    # input batch\n",
    "    x = torch.stack([data[i:i+block_size] for i in xi])\n",
    "    # target batch    \n",
    "    y = torch.stack([data[i+1:i+1+block_size] for i in xi])\n",
    "    x, y = x.to(device), y.to(device) # send to cuda -> parallelize\n",
    "    return x, y\n",
    "\n",
    "x, y = get_batch('train')\n",
    "print(\"Input batch:\")\n",
    "print(x)\n",
    "print(\"Target batch:\")\n",
    "print(y)    "
   ]
  },
  {
   "cell_type": "code",
   "execution_count": 40,
   "id": "342b47a4",
   "metadata": {},
   "outputs": [
    {
     "name": "stdout",
     "output_type": "stream",
     "text": [
      "\n",
      "nuB6cpji4o-P1)\n",
      "Wv427Gl4osalbYfcv0TadF_odLY(pv,8*h?7vB& R'4eQaZ\n",
      "9hQgiRv2Fr4tBMT0(NcC2FpT*V9,pT*ZYoIx5KvpNsag6_q.4IZdJAS?QPbSE;rY\n",
      "dyq.mLyZF-5uK[_DQ6ch?vhkTmv!if!gfU6VR-z;Vrh;G);.JZKJ_D9Jd :eg8\n",
      "qh44th0J.:1*n!8F-POk[MQw:-Wwx,v&L3!e2d.JK8j(WVfBjfdFvn3KO\"fLTpowAb-MQlm3WlC5mI5o&.gQcq.I9Ur)x.opg;D\n",
      "hX92pT-R_x*kkmp?y-e19Oq.8J:3Cr4ISYvz2Wv0XSh\"xsYSjy0vUy\n",
      "zwxyvLYaF-e?E?MQK\"cSCVf ]]9JMyVn3QkkT.CKpXaI8Te6tIFAJv-JvZ[Zr[-)7GFu)_k7;8-3cIxY pK))P--xODvgs2SoC?-Dv;X1sX7cJdk5xn3 m[v?_Zx\n",
      "-dP3ckw(UUJrDQKZF(X94tkRTwP32\n"
     ]
    }
   ],
   "source": [
    "# basic bigram language model\n",
    "class BigramLanguageModel(nn.Module):\n",
    "    def __init__(self, vocab_size):\n",
    "        super().__init__()\n",
    "        self.token_embedding_table = nn.Embedding(vocab_size, vocab_size)\n",
    "    \n",
    "    def forward(self, idx, targets=None):\n",
    "        logits = self.token_embedding_table(idx)\n",
    "\n",
    "        if targets is None:\n",
    "            loss = None\n",
    "        else:\n",
    "            B, T, C = logits.shape  # B=batch size, T=time, C=channels (vocab size)\n",
    "            \n",
    "            # reshape logits and targets for cross-entropy loss\n",
    "            logits = logits.view(B*T, C) \n",
    "            targets = targets.view(B*T)\n",
    "            loss = F.cross_entropy(logits, targets) \n",
    "        return logits, loss\n",
    "\n",
    "    def generate(self, idx, max_new_tokens):\n",
    "        for _ in range(max_new_tokens):\n",
    "            logits, loss = self.forward(idx)  # get predictions\n",
    "            logits = logits[:, -1, :] # (B, C) last time step\n",
    "            probs = F.softmax(logits, dim=-1) # (B, C)\n",
    "            idx_next = torch.multinomial(probs, num_samples=1) # (B, 1)\n",
    "            idx = torch.cat((idx, idx_next), dim=1) # (B, T+1)\n",
    "        return idx\n",
    "\n",
    "model = BigramLanguageModel(vocab_size).to(device)\n",
    "context = torch.zeros((1, 1), dtype=torch.long, device=device)  # initial context\n",
    "generated_chars = decode(model.generate(context, max_new_tokens=500)[0].tolist())\n",
    "print(generated_chars)        "
   ]
  },
  {
   "cell_type": "code",
   "execution_count": 48,
   "id": "e774c064",
   "metadata": {},
   "outputs": [
    {
     "name": "stdout",
     "output_type": "stream",
     "text": [
      "2.399839162826538\n"
     ]
    }
   ],
   "source": [
    "optimizer = torch.optim.AdamW(model.parameters(), lr)\n",
    "\n",
    "for iter in range(max_iters):\n",
    "    xb, yb = get_batch('train')\n",
    "    \n",
    "    logits, loss = model.forward(xb, yb)\n",
    "    optimizer.zero_grad(set_to_none=True)\n",
    "    loss.backward()\n",
    "    optimizer.step()\n",
    "print(loss.item())"
   ]
  },
  {
   "cell_type": "code",
   "execution_count": 49,
   "id": "f3fb0b52",
   "metadata": {},
   "outputs": [
    {
     "name": "stdout",
     "output_type": "stream",
     "text": [
      "\n",
      "Sbed GVIts,\"He bellitess thoff goce whom nimave a 4 on hos f\n",
      "GAhisthby d vesewheeracasin whene,\" oul agors itofinade\n",
      "s jqusag to the we h baro opllore 's sctheman y oom te m ld.\n",
      "plf, wins andaty nsteredongrthe can  ithe tcabon:k Thins r sthabo!\"\n",
      "\n",
      "t aply ce Bir  Winoutheme te mand anound ckean.\n",
      "oy s ve, r, bevey f me thallly ck Is lod;y:jN_YN\" NIZe This ipsorevoowa  pe s Wed pl fure. bousonchthas at.\n",
      "nod tl lwale hebsky Ar s. at, s sithe\n",
      "\n",
      "Dd, LYOhintan re, fixp!\"Tumeliole per s Tharouplerd th\n",
      "THo\n"
     ]
    }
   ],
   "source": [
    "context = torch.zeros((1, 1), dtype=torch.long, device=device)  # initial context\n",
    "generated_chars = decode(model.generate(context, max_new_tokens=500)[0].tolist())\n",
    "print(generated_chars) "
   ]
  }
 ],
 "metadata": {
  "kernelspec": {
   "display_name": "Python 3 (ipykernel)",
   "language": "python",
   "name": "python3"
  },
  "language_info": {
   "codemirror_mode": {
    "name": "ipython",
    "version": 3
   },
   "file_extension": ".py",
   "mimetype": "text/x-python",
   "name": "python",
   "nbconvert_exporter": "python",
   "pygments_lexer": "ipython3",
   "version": "3.11.5"
  }
 },
 "nbformat": 4,
 "nbformat_minor": 5
}
