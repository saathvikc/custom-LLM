{
 "cells": [
  {
   "cell_type": "code",
   "execution_count": 1,
   "id": "5b1c065f",
   "metadata": {},
   "outputs": [
    {
     "name": "stdout",
     "output_type": "stream",
     "text": [
      "Using device: cuda\n"
     ]
    }
   ],
   "source": [
    "import torch\n",
    "import torch.nn as nn\n",
    "from torch.nn import functional as F\n",
    "device = torch.device(\"cuda\" if torch.cuda.is_available() else \"cpu\")\n",
    "print(f\"Using device: {device}\")"
   ]
  },
  {
   "cell_type": "code",
   "execution_count": 2,
   "id": "c5702a74",
   "metadata": {},
   "outputs": [],
   "source": [
    "# Hyperparameters\n",
    "block_size = 8\n",
    "batch_size = 4\n",
    "max_iters = 1000\n",
    "lr = 3e-4\n",
    "eval_iters = 250"
   ]
  },
  {
   "cell_type": "code",
   "execution_count": null,
   "id": "16497e98-eee9-4422-ac78-019fc95386a2",
   "metadata": {},
   "outputs": [
    {
     "name": "stdout",
     "output_type": "stream",
     "text": [
      "['\\n', ' ', '!', '\"', '&', \"'\", '(', ')', '*', ',', '-', '.', '0', '1', '2', '3', '4', '5', '6', '7', '8', '9', ':', ';', '?', 'A', 'B', 'C', 'D', 'E', 'F', 'G', 'H', 'I', 'J', 'K', 'L', 'M', 'N', 'O', 'P', 'Q', 'R', 'S', 'T', 'U', 'V', 'W', 'X', 'Y', 'Z', '[', ']', '_', 'a', 'b', 'c', 'd', 'e', 'f', 'g', 'h', 'i', 'j', 'k', 'l', 'm', 'n', 'o', 'p', 'q', 'r', 's', 't', 'u', 'v', 'w', 'x', 'y', 'z']\n"
     ]
    }
   ],
   "source": [
    "with open('wizard_of_oz.txt', 'r', encoding='utf-8') as f:\n",
    "    text = f.read()\n",
    "chars = sorted(set(text))\n",
    "print(chars)\n",
    "vocab_size = len(chars)"
   ]
  },
  {
   "cell_type": "code",
   "execution_count": 4,
   "id": "42399e9f-ee5c-4cc1-9057-0f89c1111915",
   "metadata": {
    "scrolled": true
   },
   "outputs": [
    {
     "name": "stdout",
     "output_type": "stream",
     "text": [
      "tensor([28, 39, 42, 39, 44, 32, 49,  1, 25, 38, 28,  1, 44, 32, 29,  1, 47, 33,\n",
      "        50, 25, 42, 28,  1, 33, 38,  1, 39, 50,  0,  0, 26, 49,  0,  0, 36, 11,\n",
      "         1, 30, 42, 25, 38, 35,  1, 26, 25, 45, 37,  0,  0, 25, 45, 44, 32, 39,\n",
      "        42,  1, 39, 30,  1, 44, 32, 29,  1, 47, 33, 50, 25, 42, 28,  1, 39, 30,\n",
      "         1, 39, 50,  9,  1, 44, 32, 29,  1, 36, 25, 38, 28,  1, 39, 30,  1, 39,\n",
      "        50,  9,  1, 39, 50, 37, 25,  1, 39, 30])\n"
     ]
    }
   ],
   "source": [
    "string_to_int = {ch:i for i, ch in enumerate(chars)}\n",
    "int_to_string = {i:ch for i, ch in enumerate(chars)}\n",
    "encode = lambda s: [string_to_int[c] for c in s]\n",
    "decode = lambda l: ''.join([int_to_string[i] for i in l])\n",
    "\n",
    "data = torch.tensor(encode(text), dtype=torch.long)\n",
    "print(data[:100]) "
   ]
  },
  {
   "cell_type": "code",
   "execution_count": 5,
   "id": "c4ff6023-b8c8-45ba-8d2f-2305d485cb41",
   "metadata": {},
   "outputs": [
    {
     "name": "stdout",
     "output_type": "stream",
     "text": [
      "Input batch:\n",
      "tensor([[58, 57,  0, 54, 60, 54, 62, 67],\n",
      "        [ 1, 76, 54, 78,  1, 34, 62, 66],\n",
      "        [58, 66,  1, 54, 67, 57,  1, 34],\n",
      "        [62, 56, 64,  1, 68, 74, 73,  1]], device='cuda:0')\n",
      "Target batch:\n",
      "tensor([[57,  0, 54, 60, 54, 62, 67,  1],\n",
      "        [76, 54, 78,  1, 34, 62, 66,  1],\n",
      "        [66,  1, 54, 67, 57,  1, 34, 62],\n",
      "        [56, 64,  1, 68, 74, 73,  1, 76]], device='cuda:0')\n"
     ]
    }
   ],
   "source": [
    "n = int(0.8 * len(data))\n",
    "train_data = data[:n]\n",
    "test_data = data[n:]\n",
    "\n",
    "def get_batch(split):\n",
    "    data = train_data if split == 'train' else test_data\n",
    "    xi = torch.randint(len(data) - block_size, (batch_size,)) # random starting indices\n",
    "    # print(f\"Training Integers: {xi}\")\n",
    "    # input batch\n",
    "    x = torch.stack([data[i:i+block_size] for i in xi])\n",
    "    # target batch    \n",
    "    y = torch.stack([data[i+1:i+1+block_size] for i in xi])\n",
    "    x, y = x.to(device), y.to(device) # send to cuda -> parallelize\n",
    "    return x, y\n",
    "\n",
    "x, y = get_batch('train')\n",
    "print(\"Input batch:\")\n",
    "print(x)\n",
    "print(\"Target batch:\")\n",
    "print(y)    "
   ]
  },
  {
   "cell_type": "code",
   "execution_count": null,
   "id": "df0abdce",
   "metadata": {},
   "outputs": [],
   "source": [
    "@torch.no_grad()\n",
    "def estimate_loss():\n",
    "    out = {}\n",
    "    model.eval() # type: ignore\n",
    "    for split in ['train', 'val']:\n",
    "        losses = torch.zeros(eval_iters)\n",
    "        for k in range(eval_iters):\n",
    "            X, Y = get_batch(split)\n",
    "            logits, loss = model(X, Y) # type: ignore\n",
    "            losses[k] = loss.item()\n",
    "        out[split] = losses.mean()\n",
    "    model.train() # type: ignore\n",
    "    return out"
   ]
  },
  {
   "cell_type": "code",
   "execution_count": 7,
   "id": "342b47a4",
   "metadata": {},
   "outputs": [
    {
     "name": "stdout",
     "output_type": "stream",
     "text": [
      "\n",
      "GDg'ZW5h\n",
      ")JY;sD0LGZ3\n",
      "_Oe*3!k]5y5?-wFLs?RO1.\"0TL2h\n",
      "HXvX:t7Z&kD?Kmq,3iBWyCO6faKJjMC .SNN!HFF8U7baT9r!dqh_;VQ?)zgMpfHxOIm)&EFoL:NqJM:tk?*IL)SIm-Dq]cq:'CKBDgR7(MNT]5F(OB.R!'MmiO;3 PN54OUL;rFl35GS68M[qu(8P,F&xT o\n",
      "p&EK?s?Fnb.9\"9Lq\n",
      "IT)54]5mLhD:Z.]2CWY[3YNZ&KE2x;&-1O410.KQ?EayxJP]A'_Z,\"evSJ]Gv!?yCjh\n",
      "Kqe*8b.\n",
      "nW6V_Sssr )Ps0-sOp,\"w'Zqd\"ey1pQr_b.o1D&l-Aug0PZgG&T)J:)F7ZvupcHY1W'E 3P,9-1H1Dt:*6i?)J3z0SE&*9DSadl6JoJIo1Wt7JH.\"ac6V6_8n3c'm4qJ&zfj*T_b(cx:ZWCk8d\"z!37Dg]_PSNaR7mBY1pP.uVD4ty9Ve1YTXako;0mQYPej*3AG?uJ\n"
     ]
    }
   ],
   "source": [
    "# basic bigram language model\n",
    "class BigramLanguageModel(nn.Module):\n",
    "    def __init__(self, vocab_size):\n",
    "        super().__init__()\n",
    "        self.token_embedding_table = nn.Embedding(vocab_size, vocab_size)\n",
    "    \n",
    "    def forward(self, idx, targets=None):\n",
    "        logits = self.token_embedding_table(idx)\n",
    "\n",
    "        if targets is None:\n",
    "            loss = None\n",
    "        else:\n",
    "            B, T, C = logits.shape  # B=batch size, T=time, C=channels (vocab size)\n",
    "            \n",
    "            # reshape logits and targets for cross-entropy loss\n",
    "            logits = logits.view(B*T, C) \n",
    "            targets = targets.view(B*T)\n",
    "            loss = F.cross_entropy(logits, targets) \n",
    "        return logits, loss\n",
    "\n",
    "    def generate(self, idx, max_new_tokens):\n",
    "        for _ in range(max_new_tokens):\n",
    "            logits, loss = self.forward(idx)  # get predictions\n",
    "            logits = logits[:, -1, :] # (B, C) last time step\n",
    "            probs = F.softmax(logits, dim=-1) # (B, C)\n",
    "            idx_next = torch.multinomial(probs, num_samples=1) # (B, 1)\n",
    "            idx = torch.cat((idx, idx_next), dim=1) # (B, T+1)\n",
    "        return idx\n",
    "\n",
    "model = BigramLanguageModel(vocab_size).to(device)\n",
    "context = torch.zeros((1, 1), dtype=torch.long, device=device)  # initial context\n",
    "generated_chars = decode(model.generate(context, max_new_tokens=500)[0].tolist())\n",
    "print(generated_chars)        "
   ]
  },
  {
   "cell_type": "code",
   "execution_count": null,
   "id": "e774c064",
   "metadata": {},
   "outputs": [
    {
     "name": "stdout",
     "output_type": "stream",
     "text": [
      "step: 0, train loss: 4.4338, val loss: 4.4512\n",
      "step: 250, train loss: 4.3809, val loss: 4.3759\n",
      "step: 500, train loss: 4.3483, val loss: 4.3138\n",
      "step: 750, train loss: 4.2825, val loss: 4.2885\n",
      "4.475279331207275\n"
     ]
    }
   ],
   "source": [
    "optimizer = torch.optim.AdamW(model.parameters(), lr)\n",
    "\n",
    "for iter in range(max_iters):\n",
    "    if iter % eval_iters == 0:\n",
    "        losses = estimate_loss()\n",
    "        print(f'step: {iter}, train loss: {losses[\"train\"]:.4f}, val loss: {losses[\"val\"]:.4f}')\n",
    "    xb, yb = get_batch('train')\n",
    "    \n",
    "    logits, loss = model.forward(xb, yb)\n",
    "    optimizer.zero_grad(set_to_none=True)\n",
    "    loss.backward() # type: ignore\n",
    "    optimizer.step()\n",
    "print(loss.item()) # type: ignore"
   ]
  },
  {
   "cell_type": "code",
   "execution_count": 12,
   "id": "f3fb0b52",
   "metadata": {},
   "outputs": [
    {
     "name": "stdout",
     "output_type": "stream",
     "text": [
      "\n",
      "im4d6MUM15(F(6l-DEs6*(p8E_87_O.\"vYfSEf?*7*gK\n",
      "w,7x:f&yNm'RK9yGO-1g,FUAJK]2NWnHxVr1n('Tr-GnEq*&(uvqe8Pe'qJx(powVh\n",
      "B PBC;B6&?[ei[&_b.5C90qVfouRToTadMdl[E-wPp9-s7yh?rg\n",
      ")&kH_LG b;Z5F?\"E\n",
      "we b?hexxUZ8SQL*i9L*76RhJ1qWq-T-Mtrb.gFXw_KF('Tgn,\"M5mZ&R_;Yn.\"3\n",
      ";Y1lJ)6bTH;(BE!av\"3zb;)62e1M9gvk;Q 98 nB2xKjIx[E_7xKhen*OftxMzZ9e-1qJUk8Mzgl-\"5!k8j!p2'EfWP.PQ841q]NhFnGDnBZ90H\"9Lzh\n",
      "rjh\n",
      "5cgJU0brivswe0L;dtujD0\n",
      ";Z5?q**ctHk\"5zvu-1zWg0-\"g?iWNE-Sgy5ef1ee,&tmLoTM8?J1WJ]5j2ALU((c?AC)Y(?nS3 v?tye*Nxt\n",
      "oANc].&\n",
      "iu:MH;TG2q1yZ((mk\n"
     ]
    }
   ],
   "source": [
    "context = torch.zeros((1, 1), dtype=torch.long, device=device)  # initial context\n",
    "generated_chars = decode(model.generate(context, max_new_tokens=500)[0].tolist())\n",
    "print(generated_chars) "
   ]
  }
 ],
 "metadata": {
  "kernelspec": {
   "display_name": "Python 3",
   "language": "python",
   "name": "python3"
  },
  "language_info": {
   "codemirror_mode": {
    "name": "ipython",
    "version": 3
   },
   "file_extension": ".py",
   "mimetype": "text/x-python",
   "name": "python",
   "nbconvert_exporter": "python",
   "pygments_lexer": "ipython3",
   "version": "3.11.5"
  }
 },
 "nbformat": 4,
 "nbformat_minor": 5
}
